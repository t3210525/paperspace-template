{
  "cells": [
    {
      "cell_type": "code",
      "execution_count": null,
      "metadata": {
        "execution": {
          "iopub.execute_input": "2023-05-06T05:50:19.358910Z",
          "iopub.status.busy": "2023-05-06T05:50:19.358062Z",
          "iopub.status.idle": "2023-05-06T06:11:06.290153Z",
          "shell.execute_reply": "2023-05-06T06:11:06.289502Z",
          "shell.execute_reply.started": "2023-05-06T05:50:19.358885Z"
        },
        "id": "qfGtMLwLpCr3"
      },
      "outputs": [],
      "source": [
        "#(3) WebUI起動\n",
        "!apt update\n",
        "!apt -y install python3.10\n",
        "!curl -sS https://bootstrap.pypa.io/get-pip.py | python3.10\n",
        "!python3.10 -m pip install torch==2.0.0+cu118 torchvision==0.15.1+cu118 torchaudio==2.0.1+cu118 torchtext==0.15.1 torchdata==0.6.0 --extra-index-url https://download.pytorch.org/whl/cu118 -U\n",
        "!python3.10 -m pip install xformers==0.0.18 triton==2.0.0 -U\n",
        "%cd /notebooks/stable-diffusion-webui\n",
        "!python3.10 launch.py --xformers --enable-insecure-extension-access --share --gradio-queue\n"
      ]
    },
    {
      "cell_type": "code",
      "execution_count": null,
      "metadata": {
        "execution": {
          "iopub.execute_input": "2023-05-04T23:59:36.964054Z",
          "iopub.status.busy": "2023-05-04T23:59:36.963563Z",
          "iopub.status.idle": "2023-05-04T23:59:39.697572Z",
          "shell.execute_reply": "2023-05-04T23:59:39.696873Z",
          "shell.execute_reply.started": "2023-05-04T23:59:36.964034Z"
        },
        "id": "JMVf8COkpK0e"
      },
      "outputs": [],
      "source": [
        "#(1) AUTOMATIC1111のダウンロード\n",
        "%cd /notebooks\n",
        "!rm -rf stable-diffusion-webui\n",
        "!git clone https://github.com/AUTOMATIC1111/stable-diffusion-webui\n"
      ]
    },
    {
      "cell_type": "code",
      "execution_count": null,
      "metadata": {
        "execution": {
          "iopub.execute_input": "2023-05-05T00:00:28.876322Z",
          "iopub.status.busy": "2023-05-05T00:00:28.875770Z",
          "iopub.status.idle": "2023-05-05T00:13:24.442024Z",
          "shell.execute_reply": "2023-05-05T00:13:24.441355Z",
          "shell.execute_reply.started": "2023-05-05T00:00:28.876322Z"
        },
        "id": "rIUmi3RhpQiW"
      },
      "outputs": [],
      "source": [
        "#(2) モデルのダウンロード（ここにダウンロードしたいモデルを追加）\n",
        "%cd /notebooks/stable-diffusion-webui/models/Stable-diffusion\n",
        "!wget -nc https://civitai.com/api/download/models/63786 -O BRA_v5.safetensors\n",
        "!wget -nc https://civitai.com/api/download/models/16859 -O BulueberryMix-1.0.safetensors\n",
        "!wget -nc https://civitai.com/api/download/models/11745 -O Chilloutmix-Ni-pruned-fp32-fix.safetensors\n",
        "!wget -nc https://civitai.com/api/download/models/47274 -O xxmix9realistic_v26.safetensors\n",
        "!wget -nc https://civitai.com/api/download/models/43331 -O majicmixRealistic_v2.safetensors\n",
        "!wget -nc https://civitai.com/api/download/models/33208 -O FilmG4.safetensors\n",
        "!wget -nc https://civitai.com/api/download/models/62760 -O asianGirlsFace_v1.safetensors\n",
        "!wget -nc https://civitai.com/api/download/models/45462 -O GirilfriendMix2.safetensors\n",
        "!wget -nc https://civitai.com/api/download/models/83430 -O basiljapan.safetensors\n",
        "!wget -nc https://civitai.com/api/download/models/113479 -O brav6.safetensors\n",
        "!wget -nc https://huggingface.co/sazyou-roukaku/BracingEvoMix/resolve/main/BracingEvoMix_v1.safetensors -O bracing_evo_mix.safetensors\n",
        "!wget -nc https://huggingface.co/sazyou-roukaku/chilled_remix/resolve/main/chilled_remix_v1vae.safetensors -O chilled_remix_v1vae.safetensors\n",
        "\n",
        "%cd /notebooks/stable-diffusion-webui/embeddings\n",
        "!wget -nc https://civitai.com/api/download/models/60938 -O negative_hand-neg.pt\n",
        "!wget -nc https://huggingface.co/datasets/Nerfgun3/bad_prompt/resolve/main/bad_prompt_version2.pt -O bad_prompt.pt\n"
      ]
    },
    {
      "cell_type": "code",
      "execution_count": null,
      "metadata": {
        "id": "a3c-0LBjpYXe"
      },
      "outputs": [],
      "source": [
        "#(4) AUTOMATIC1111アップデート（アップデートが必要な時のみ実行）\n",
        "%cd /notebooks/stable-diffusion-webui\n",
        "!git checkout master\n",
        "!git pull\n"
      ]
    }
  ],
  "metadata": {
    "colab": {
      "private_outputs": true,
      "provenance": []
    },
    "gpuClass": "standard",
    "kernelspec": {
      "display_name": "Python 3 (ipykernel)",
      "language": "python",
      "name": "python3"
    },
    "language_info": {
      "codemirror_mode": {
        "name": "ipython",
        "version": 3
      },
      "file_extension": ".py",
      "mimetype": "text/x-python",
      "name": "python",
      "nbconvert_exporter": "python",
      "pygments_lexer": "ipython3",
      "version": "3.9.16"
    }
  },
  "nbformat": 4,
  "nbformat_minor": 0
}
